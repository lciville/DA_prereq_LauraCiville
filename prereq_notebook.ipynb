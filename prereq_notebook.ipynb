{
 "cells": [
  {
   "cell_type": "code",
   "execution_count": 1,
   "id": "8c439f1c",
   "metadata": {},
   "outputs": [
    {
     "name": "stdout",
     "output_type": "stream",
     "text": [
      "the sum is: 68\n"
     ]
    }
   ],
   "source": [
    "num1 = 12\n",
    "num2= 56\n",
    "\n",
    "sum= num1 + num2\n",
    "print(\"the sum is:\", sum)\n"
   ]
  },
  {
   "cell_type": "markdown",
   "id": "5b50dee8",
   "metadata": {},
   "source": [
    "Hi Code:You Team, my name is Laura. I'm an operations support analyst at V-Soft. I'm looking forward to learning techincal skills for my career development! I like to read, listen to music, and some times play video game or watch TV. I ahve a 13 year old pitbull mix named Lou. I'm pretty shy but hoping as we get further into class I'll start to speak up more! I'm looking forward to leanring from you all and thank you! "
   ]
  }
 ],
 "metadata": {
  "kernelspec": {
   "display_name": "Python 3",
   "language": "python",
   "name": "python3"
  },
  "language_info": {
   "codemirror_mode": {
    "name": "ipython",
    "version": 3
   },
   "file_extension": ".py",
   "mimetype": "text/x-python",
   "name": "python",
   "nbconvert_exporter": "python",
   "pygments_lexer": "ipython3",
   "version": "3.13.7"
  }
 },
 "nbformat": 4,
 "nbformat_minor": 5
}
